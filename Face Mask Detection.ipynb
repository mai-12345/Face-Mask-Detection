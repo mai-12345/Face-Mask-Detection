{
 "cells": [
  {
   "cell_type": "code",
   "execution_count": 17,
   "id": "3238da8e-5895-4652-99d9-4a446237e8b2",
   "metadata": {},
   "outputs": [
    {
     "name": "stdout",
     "output_type": "stream",
     "text": [
      "Overwriting face_mask_detection.py\n"
     ]
    }
   ],
   "source": [
    "%%writefile face_mask_detection.py\n",
    "\n",
    "import streamlit as st\n",
    "import cv2\n",
    "import numpy as np\n",
    "from tensorflow.keras.models import load_model\n",
    "\n",
    "st.title(\" Face Mask Detection Application\")\n",
    "\n",
    "model=load_model(r\"C:\\Users\\H-p\\Downloads\\face_mask_detection_model.h5\")\n",
    "\n",
    "uploaded_image=st.file_uploader(\" Choose an Image....\",type=['png', 'jpg', 'jpeg', 'webp'])\n",
    "\n",
    "#define a function for face detectiozn and mask detection\n",
    "def detect_and_predict_mask(image):\n",
    "    face_cascade=cv2.CascadeClassifier(cv2.data.haarcascades + 'haarcascade_frontalface_default.xml')\n",
    "    faces=face_cascade.detectMultiScale(image, scaleFactor= 1.1)\n",
    "\n",
    "    prediction=[]\n",
    "\n",
    "    for (x,y,w,h) in faces:\n",
    "        face=image[y:y+h,x:x+w]\n",
    "        face=cv2.cvtColor(face,cv2.COLOR_BGR2RGB)\n",
    "        face=cv2.resize(face,(128,128))\n",
    "        face=np.array(face)/255.0\n",
    "        face=np.expand_dims(face,axis=0)\n",
    "\n",
    "        #predict mask/no mask\n",
    "        prediction.append(model.predict(face))\n",
    "\n",
    "    return faces,prediction\n",
    "\n",
    "if uploaded_image is not None:\n",
    "    file_bytes=np.asarray(bytearray(uploaded_image.read()),dtype = np.uint8)\n",
    "    image=cv2.imdecode(file_bytes,1)\n",
    "    image=cv2.cvtColor(image,cv2.COLOR_BGR2RGB)\n",
    "\n",
    "    faces,prediction=detect_and_predict_mask(image)\n",
    "\n",
    "    for i ,(x,y,w,h) in enumerate(faces):\n",
    "        (mask,withoutMask)=prediction[i][0]\n",
    "        label='Mask' if mask>withoutMask else 'No Mask'\n",
    "\n",
    "        color = (0,0,255) if label == 'Mask' else (255, 0, 0)\n",
    "    \n",
    "        cv2.putText(image, label, (x, y), cv2.FONT_HERSHEY_SIMPLEX, 1, color, 2)\n",
    "        cv2.rectangle(image, (x,y), (x+w, y+h), color, 1)\n",
    "\n",
    "st.image(image, caption = 'Detected Image',use_container_width=True)\n",
    "\n"
   ]
  },
  {
   "cell_type": "code",
   "execution_count": null,
   "id": "fdf610ee-a634-4ed2-b05f-887ed128cede",
   "metadata": {},
   "outputs": [],
   "source": []
  }
 ],
 "metadata": {
  "kernelspec": {
   "display_name": "Python 3 (ipykernel)",
   "language": "python",
   "name": "python3"
  },
  "language_info": {
   "codemirror_mode": {
    "name": "ipython",
    "version": 3
   },
   "file_extension": ".py",
   "mimetype": "text/x-python",
   "name": "python",
   "nbconvert_exporter": "python",
   "pygments_lexer": "ipython3",
   "version": "3.12.4"
  }
 },
 "nbformat": 4,
 "nbformat_minor": 5
}
